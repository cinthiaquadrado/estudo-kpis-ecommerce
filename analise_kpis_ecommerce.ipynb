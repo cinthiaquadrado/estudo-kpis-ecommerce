{
  "nbformat": 4,
  "nbformat_minor": 0,
  "metadata": {
    "colab": {
      "provenance": []
    },
    "kernelspec": {
      "name": "python3",
      "display_name": "Python 3"
    },
    "language_info": {
      "name": "python"
    }
  },
  "cells": [
    {
      "cell_type": "markdown",
      "source": [
        "# **Análise de KPIs para e-commerce**\n",
        "\n",
        "Objetivo do estudo: A partie de dados fictícios, avaliar o desempenho das vendas em diferentes regiões e categorias de produtos para identificar oportunidades de crescimento e melhoria da margem de lucro."
      ],
      "metadata": {
        "id": "F2fsRvXCj0xq"
      }
    },
    {
      "cell_type": "markdown",
      "source": [
        "## Criação do dataframe de estudo"
      ],
      "metadata": {
        "id": "8FQUD-qH0QWl"
      }
    },
    {
      "cell_type": "code",
      "execution_count": 1,
      "metadata": {
        "id": "sfUm-af4jLl-"
      },
      "outputs": [],
      "source": [
        "import pandas as pd\n",
        "import numpy as np\n",
        "import matplotlib.pyplot as plt\n",
        "import seaborn as sns\n",
        "\n",
        "\n",
        "# Definindo parâmetros para uma base de dados\n",
        "num_orders = 500  # Quantidade de registros\n",
        "np.random.seed(42)\n"
      ]
    },
    {
      "cell_type": "code",
      "source": [
        "# Categorias e regiões possíveis\n",
        "categories = ['Eletrônicos', 'Moda', 'Alimentos', 'Beleza', 'Esportes']\n",
        "regions = ['Sudeste', 'Nordeste', 'Sul', 'Centro-Oeste', 'Norte']\n",
        "\n",
        "# Gerando dados fictícios\n",
        "order_id = np.arange(1, num_orders + 1)\n",
        "sale_date = pd.date_range(start='2023-01-01', periods=num_orders, freq='D')\n",
        "region = np.random.choice(regions, num_orders)\n",
        "category = np.random.choice(categories, num_orders)\n",
        "quantity_sold = np.random.randint(1, 20, num_orders)  # Quantidade vendida por pedido (1 a 20)\n",
        "revenue = np.random.randint(100, 5000, num_orders)  # Receita em reais (R$100 a R$5000)\n",
        "cost = np.random.randint(50, 4000, num_orders)  # Custo do produto (R$50 a R$4000)\n",
        "margin = (revenue - cost) / revenue * 100  # Margem de lucro como porcentagem\n",
        "\n",
        "# Criando o DataFrame\n",
        "data_large = {\n",
        "    'Pedido ID': order_id,\n",
        "    'Data da Venda': sale_date,\n",
        "    'Região': region,\n",
        "    'Categoria': category,\n",
        "    'Quantidade Vendida': quantity_sold,\n",
        "    'Receita (R$)': revenue,\n",
        "    'Custo (R$)': cost,\n",
        "    'Margem de Lucro (%)': margin\n",
        "}\n",
        "\n",
        "df_large = pd.DataFrame(data_large)\n",
        "\n",
        "# Exibir as primeiras linhas da base\n",
        "print(df_large.head())"
      ],
      "metadata": {
        "colab": {
          "base_uri": "https://localhost:8080/"
        },
        "id": "QFMiARavjcag",
        "outputId": "0ff4e414-89fd-4e2b-d838-67c55291b47d"
      },
      "execution_count": 2,
      "outputs": [
        {
          "output_type": "stream",
          "name": "stdout",
          "text": [
            "   Pedido ID Data da Venda        Região    Categoria  Quantidade Vendida  \\\n",
            "0          1    2023-01-01  Centro-Oeste       Beleza                  12   \n",
            "1          2    2023-01-02         Norte  Eletrônicos                  12   \n",
            "2          3    2023-01-03           Sul     Esportes                   4   \n",
            "3          4    2023-01-04         Norte    Alimentos                  16   \n",
            "4          5    2023-01-05         Norte    Alimentos                   4   \n",
            "\n",
            "   Receita (R$)  Custo (R$)  Margem de Lucro (%)  \n",
            "0          3611        2767            23.373027  \n",
            "1          1088         682            37.316176  \n",
            "2          4216        2152            48.956357  \n",
            "3          4126        3009            27.072225  \n",
            "4          4279        3133            26.781958  \n"
          ]
        }
      ]
    },
    {
      "cell_type": "markdown",
      "source": [
        "## As principais descobertas a partir do estudo"
      ],
      "metadata": {
        "id": "WRjfCxiF0Y_v"
      }
    },
    {
      "cell_type": "code",
      "source": [
        "# Receita total\n",
        "receita_total = df_large['Receita (R$)'].sum()\n",
        "print('A receita total é de '+ str(receita_total) + ' reais.')\n",
        "\n",
        "# Margem de lucro média\n",
        "margem_lucro_media = df_large['Margem de Lucro (%)'].mean().round(2)\n",
        "print('A margem de lucro total é de ' + str(margem_lucro_media) + '%.')"
      ],
      "metadata": {
        "colab": {
          "base_uri": "https://localhost:8080/"
        },
        "id": "Xjhe0RWlkEZn",
        "outputId": "5db9f314-f16e-4de7-c517-d34a8623311d"
      },
      "execution_count": 21,
      "outputs": [
        {
          "output_type": "stream",
          "name": "stdout",
          "text": [
            "A receita total é de 1246211 reais.\n",
            "A margem de lucro total é de -67.49%.\n"
          ]
        }
      ]
    },
    {
      "cell_type": "markdown",
      "source": [
        "Crescimento de 30,36% em maio de 2023, em relação ao mês anterior, mas quedas expressivas, em fevereiro de 2024 (-17,36%) e maio de 2024 (-53,52%)."
      ],
      "metadata": {
        "id": "bGgI8LQ21CCI"
      }
    },
    {
      "cell_type": "code",
      "source": [
        "# Encontrando a data mais antiga e mais recente\n",
        "data_inicio = df_large['Data da Venda'].min()\n",
        "data_fim = df_large['Data da Venda'].max()\n",
        "print(f\"Intervalo de tempo: {data_inicio} até {data_fim}\\n\")\n",
        "\n",
        "# Crescimento de vendas\n",
        "df_large['Mês'] = df_large['Data da Venda'].dt.to_period('M')\n",
        "receita_mensal = df_large.groupby('Mês')['Receita (R$)'].sum()\n",
        "print(receita_mensal)\n",
        "\n",
        "crescimento_mensal = (receita_mensal.pct_change() * 100).round(2)\n",
        "crescimento_mensal = crescimento_mensal.fillna(0)  # Substitui NaN por 0\n",
        "print(crescimento_mensal)"
      ],
      "metadata": {
        "colab": {
          "base_uri": "https://localhost:8080/"
        },
        "id": "QTWURxU8kzgj",
        "outputId": "9a67c43c-328f-4b17-9015-8366cd681b78"
      },
      "execution_count": 32,
      "outputs": [
        {
          "output_type": "stream",
          "name": "stdout",
          "text": [
            "Intervalo de tempo: 2023-01-01 00:00:00 até 2024-05-14 00:00:00\n",
            "\n",
            "Mês\n",
            "2023-01    79575\n",
            "2023-02    65650\n",
            "2023-03    66695\n",
            "2023-04    58153\n",
            "2023-05    75809\n",
            "2023-06    88525\n",
            "2023-07    79544\n",
            "2023-08    73172\n",
            "2023-09    71876\n",
            "2023-10    84558\n",
            "2023-11    78390\n",
            "2023-12    81615\n",
            "2024-01    84942\n",
            "2024-02    70192\n",
            "2024-03    73967\n",
            "2024-04    77516\n",
            "2024-05    36032\n",
            "Freq: M, Name: Receita (R$), dtype: int64\n",
            "Mês\n",
            "2023-01     0.00\n",
            "2023-02   -17.50\n",
            "2023-03     1.59\n",
            "2023-04   -12.81\n",
            "2023-05    30.36\n",
            "2023-06    16.77\n",
            "2023-07   -10.15\n",
            "2023-08    -8.01\n",
            "2023-09    -1.77\n",
            "2023-10    17.64\n",
            "2023-11    -7.29\n",
            "2023-12     4.11\n",
            "2024-01     4.08\n",
            "2024-02   -17.36\n",
            "2024-03     5.38\n",
            "2024-04     4.80\n",
            "2024-05   -53.52\n",
            "Freq: M, Name: Receita (R$), dtype: float64\n"
          ]
        }
      ]
    },
    {
      "cell_type": "markdown",
      "source": [
        "## Desempenho por região"
      ],
      "metadata": {
        "id": "NPDGwJMx2CrM"
      }
    },
    {
      "cell_type": "markdown",
      "source": [
        "Centro-Oeste e Sudeste com maiores receitas. Menor receita com o Norte. A média de margem de lucro por região foi negativa em todas elas, com destaque para o Norte como mais negativo."
      ],
      "metadata": {
        "id": "AtD2tkJg1eSM"
      }
    },
    {
      "cell_type": "code",
      "source": [
        "desempenho_regiao = df_large.groupby('Região')['Receita (R$)'].sum()\n",
        "desempenho_regiao = desempenho_regiao.sort_values(ascending=False)\n",
        "print(desempenho_regiao)\n",
        "\n",
        "desempenho_regiao_lucro = df_large.groupby('Região')['Margem de Lucro (%)'].mean().round(2)\n",
        "desempenho_regiao_lucro = desempenho_regiao_lucro.sort_values(ascending=False)\n",
        "print(desempenho_regiao_lucro)"
      ],
      "metadata": {
        "colab": {
          "base_uri": "https://localhost:8080/"
        },
        "id": "2SWqm1dgo49S",
        "outputId": "91b31074-22df-4bd1-b716-902b48edc080"
      },
      "execution_count": 38,
      "outputs": [
        {
          "output_type": "stream",
          "name": "stdout",
          "text": [
            "Região\n",
            "Centro-Oeste    272050\n",
            "Sudeste         270250\n",
            "Nordeste        247249\n",
            "Sul             229580\n",
            "Norte           227082\n",
            "Name: Receita (R$), dtype: int64\n",
            "Região\n",
            "Sul             -45.86\n",
            "Nordeste        -47.01\n",
            "Sudeste         -49.17\n",
            "Centro-Oeste    -54.39\n",
            "Norte          -146.82\n",
            "Name: Margem de Lucro (%), dtype: float64\n"
          ]
        }
      ]
    },
    {
      "cell_type": "code",
      "source": [
        "# Receita e margem de lucro por região\n",
        "fig, ax = plt.subplots(1, 2, figsize=(14, 6))\n",
        "region_revenue = df_large.groupby('Região')['Receita (R$)'].sum().sort_values()\n",
        "region_profit_margin = df_large.groupby('Região')['Margem de Lucro (%)'].mean().sort_values()\n",
        "\n",
        "sns.barplot(x=region_revenue.values, y=region_revenue.index, palette=\"viridis\", ax=ax[0])\n",
        "ax[0].set_title(\"Receita por Região\")\n",
        "sns.barplot(x=region_profit_margin.values, y=region_profit_margin.index, palette=\"magma\", ax=ax[1])\n",
        "ax[1].set_title(\"Margem de Lucro Média por Região\")\n",
        "plt.tight_layout()\n",
        "plt.show()"
      ],
      "metadata": {
        "colab": {
          "base_uri": "https://localhost:8080/",
          "height": 788
        },
        "id": "3fqYT9aszQti",
        "outputId": "48a6df25-b77a-4b62-d433-4b34b2c6eefe"
      },
      "execution_count": 46,
      "outputs": [
        {
          "output_type": "stream",
          "name": "stderr",
          "text": [
            "<ipython-input-46-526cdb590217>:6: FutureWarning: \n",
            "\n",
            "Passing `palette` without assigning `hue` is deprecated and will be removed in v0.14.0. Assign the `y` variable to `hue` and set `legend=False` for the same effect.\n",
            "\n",
            "  sns.barplot(x=region_revenue.values, y=region_revenue.index, palette=\"viridis\", ax=ax[0])\n",
            "<ipython-input-46-526cdb590217>:8: FutureWarning: \n",
            "\n",
            "Passing `palette` without assigning `hue` is deprecated and will be removed in v0.14.0. Assign the `y` variable to `hue` and set `legend=False` for the same effect.\n",
            "\n",
            "  sns.barplot(x=region_profit_margin.values, y=region_profit_margin.index, palette=\"magma\", ax=ax[1])\n"
          ]
        },
        {
          "output_type": "display_data",
          "data": {
            "text/plain": [
              "<Figure size 1400x600 with 2 Axes>"
            ],
            "image/png": "[encoded data removed]"
          },
          "metadata": {}
        }
      ]
    },
    {
      "cell_type": "markdown",
      "source": [
        "## Desempenho por categoria de produto"
      ],
      "metadata": {
        "id": "uTjjZvcH1-Js"
      }
    },
    {
      "cell_type": "markdown",
      "source": [
        "Categoria com maior receita foi de Esportes e a menor foi de Alimentos. Em relação à média de margem de lucro por categoria, os Eletrônicos e Beleza têm margens menos negativas que os demais, o que pode indicar potencial para melhor rendimento."
      ],
      "metadata": {
        "id": "JnHq-JYd1iO0"
      }
    },
    {
      "cell_type": "code",
      "source": [
        "desempenho_categoria = df_large.groupby('Categoria')['Receita (R$)'].sum()\n",
        "desempenho_categoria = desempenho_categoria.sort_values(ascending=False)\n",
        "print(desempenho_categoria)\n",
        "\n",
        "desempenho_categoria_lucro = df_large.groupby('Categoria')['Margem de Lucro (%)'].mean().round(2)\n",
        "desempenho_categoria_lucro = desempenho_categoria_lucro.sort_values(ascending=False)\n",
        "print(desempenho_categoria_lucro)"
      ],
      "metadata": {
        "colab": {
          "base_uri": "https://localhost:8080/"
        },
        "id": "WAIMbifVrCY0",
        "outputId": "2eca68f8-9d85-46f3-8259-a989093ee141"
      },
      "execution_count": 42,
      "outputs": [
        {
          "output_type": "stream",
          "name": "stdout",
          "text": [
            "Categoria\n",
            "Esportes       276658\n",
            "Eletrônicos    249869\n",
            "Beleza         248990\n",
            "Moda           238091\n",
            "Alimentos      232603\n",
            "Name: Receita (R$), dtype: int64\n",
            "Categoria\n",
            "Eletrônicos   -39.95\n",
            "Beleza        -41.83\n",
            "Moda          -64.51\n",
            "Esportes      -91.89\n",
            "Alimentos     -95.45\n",
            "Name: Margem de Lucro (%), dtype: float64\n"
          ]
        }
      ]
    },
    {
      "cell_type": "code",
      "source": [
        "df_large.to_excel('dados_vendas.xlsx', index = False)"
      ],
      "metadata": {
        "id": "0WN_wuNIt6Sq"
      },
      "execution_count": 40,
      "outputs": []
    },
    {
      "cell_type": "markdown",
      "source": [
        "#Problemas e possíveis soluções\n",
        "1. Margem de lucro negativa: Todas as regiões e categorias possuem margens negativas. Esse problema pode ter várias causas, como alto custo de aquisição, custos logísticos ou promoções excessivas.\n",
        "\n",
        "Solução: Realizar um controle de custos por produto e buscar renegociar com fornecedores. Além disso, avaliar estratégias de precificação para aumentar as margens de produtos mais procurados.\n",
        "\n",
        "2. Queda no crescimento de vendas em alguns meses: A queda acentuada nas vendas em períodos como fevereiro de 2024 sugere sazonalidade desfavorável ou perda de competitividade nesses períodos.\n",
        "\n",
        "Solução: Desenvolver campanhas de marketing sazonais e promoções específicas para esses meses ou introduzir novos produtos que tenham demanda contínua.\n",
        "\n",
        "3. Desempenho regional: Embora a receita seja alta no Centro-Oeste e Sudeste, o Norte teve a pior margem de lucro média, sugerindo que os custos de distribuição ou o mix de produtos podem estar impactando negativamente.\n",
        "\n",
        "Solução: Rever a logística de transporte e avaliar se produtos de baixa margem no Norte podem ser substituídos por produtos mais lucrativos para a região."
      ],
      "metadata": {
        "id": "pnVQFtYRyARb"
      }
    }
  ]
}